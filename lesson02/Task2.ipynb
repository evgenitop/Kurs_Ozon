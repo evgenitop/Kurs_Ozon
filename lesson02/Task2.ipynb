{
 "cells": [
  {
   "cell_type": "markdown",
   "id": "19cafa7c-339b-4661-b7fa-a3eb4d0b9ed0",
   "metadata": {},
   "source": [
    "# Задание 1. Загрузка данных из файлов"
   ]
  },
  {
   "cell_type": "markdown",
   "id": "8dbbe187-032b-4dc9-a689-6b7d98dbc92c",
   "metadata": {},
   "source": [
    "Мы будем рассматривать популярную мобильную игру Clash of Clowns. Загружаем данные о том, когда новые игроки завершали учебный уровень в игре и сколько времени они потратили на прохождение, а также данные журнала посещений."
   ]
  },
  {
   "cell_type": "code",
   "execution_count": 1,
   "id": "468cf709-9bda-4839-bbcb-9fcb770aed2a",
   "metadata": {},
   "outputs": [
    {
     "data": {
      "text/html": [
       "<div>\n",
       "<style scoped>\n",
       "    .dataframe tbody tr th:only-of-type {\n",
       "        vertical-align: middle;\n",
       "    }\n",
       "\n",
       "    .dataframe tbody tr th {\n",
       "        vertical-align: top;\n",
       "    }\n",
       "\n",
       "    .dataframe thead th {\n",
       "        text-align: right;\n",
       "    }\n",
       "</style>\n",
       "<table border=\"1\" class=\"dataframe\">\n",
       "  <thead>\n",
       "    <tr style=\"text-align: right;\">\n",
       "      <th></th>\n",
       "      <th>user_id</th>\n",
       "      <th>event_name</th>\n",
       "      <th>event_dt</th>\n",
       "      <th>duration_sec</th>\n",
       "    </tr>\n",
       "  </thead>\n",
       "  <tbody>\n",
       "    <tr>\n",
       "      <th>0</th>\n",
       "      <td>--0-b0cbb8-a</td>\n",
       "      <td>tutorial_completed</td>\n",
       "      <td>2020-06-08 13:46:07</td>\n",
       "      <td>951</td>\n",
       "    </tr>\n",
       "    <tr>\n",
       "      <th>1</th>\n",
       "      <td>--014ca35_b7</td>\n",
       "      <td>tutorial_completed</td>\n",
       "      <td>2020-05-09 04:20:13</td>\n",
       "      <td>1143</td>\n",
       "    </tr>\n",
       "    <tr>\n",
       "      <th>2</th>\n",
       "      <td>--0424774bcb</td>\n",
       "      <td>tutorial_completed</td>\n",
       "      <td>2020-05-30 07:23:05</td>\n",
       "      <td>3758</td>\n",
       "    </tr>\n",
       "    <tr>\n",
       "      <th>3</th>\n",
       "      <td>--043682a1ad</td>\n",
       "      <td>tutorial_completed</td>\n",
       "      <td>2020-05-15 03:14:40</td>\n",
       "      <td>1326</td>\n",
       "    </tr>\n",
       "    <tr>\n",
       "      <th>4</th>\n",
       "      <td>--05-26b0-6b</td>\n",
       "      <td>tutorial_completed</td>\n",
       "      <td>2020-05-20 13:07:08</td>\n",
       "      <td>2828</td>\n",
       "    </tr>\n",
       "  </tbody>\n",
       "</table>\n",
       "</div>"
      ],
      "text/plain": [
       "        user_id          event_name             event_dt  duration_sec\n",
       "0  --0-b0cbb8-a  tutorial_completed  2020-06-08 13:46:07           951\n",
       "1  --014ca35_b7  tutorial_completed  2020-05-09 04:20:13          1143\n",
       "2  --0424774bcb  tutorial_completed  2020-05-30 07:23:05          3758\n",
       "3  --043682a1ad  tutorial_completed  2020-05-15 03:14:40          1326\n",
       "4  --05-26b0-6b  tutorial_completed  2020-05-20 13:07:08          2828"
      ]
     },
     "execution_count": 1,
     "metadata": {},
     "output_type": "execute_result"
    }
   ],
   "source": [
    "import pandas as pd\n",
    "tutorial = pd.read_csv('hw_lesson02_tutorial_completed.csv')\n",
    "tutorial.head(5)"
   ]
  },
  {
   "cell_type": "code",
   "execution_count": 2,
   "id": "da484105-e5ac-49b4-932b-a8e43806231e",
   "metadata": {},
   "outputs": [
    {
     "data": {
      "text/html": [
       "<div>\n",
       "<style scoped>\n",
       "    .dataframe tbody tr th:only-of-type {\n",
       "        vertical-align: middle;\n",
       "    }\n",
       "\n",
       "    .dataframe tbody tr th {\n",
       "        vertical-align: top;\n",
       "    }\n",
       "\n",
       "    .dataframe thead th {\n",
       "        text-align: right;\n",
       "    }\n",
       "</style>\n",
       "<table border=\"1\" class=\"dataframe\">\n",
       "  <thead>\n",
       "    <tr style=\"text-align: right;\">\n",
       "      <th></th>\n",
       "      <th>user_id</th>\n",
       "      <th>region</th>\n",
       "      <th>device</th>\n",
       "      <th>channel</th>\n",
       "      <th>session_duration</th>\n",
       "      <th>session_start</th>\n",
       "    </tr>\n",
       "  </thead>\n",
       "  <tbody>\n",
       "    <tr>\n",
       "      <th>0</th>\n",
       "      <td>d35ad20dd45d</td>\n",
       "      <td>SEA</td>\n",
       "      <td>iPhone</td>\n",
       "      <td>GameAds</td>\n",
       "      <td>2589.186227</td>\n",
       "      <td>2020-04-01 17:51:25</td>\n",
       "    </tr>\n",
       "    <tr>\n",
       "      <th>1</th>\n",
       "      <td>ac4a113c52c_</td>\n",
       "      <td>CIS</td>\n",
       "      <td>iPhone</td>\n",
       "      <td>GameAds</td>\n",
       "      <td>1467.539334</td>\n",
       "      <td>2020-04-01 09:39:33</td>\n",
       "    </tr>\n",
       "    <tr>\n",
       "      <th>2</th>\n",
       "      <td>d0337d117cc8</td>\n",
       "      <td>CIS</td>\n",
       "      <td>iPhone</td>\n",
       "      <td>GameAds</td>\n",
       "      <td>3777.737508</td>\n",
       "      <td>2020-04-01 01:19:56</td>\n",
       "    </tr>\n",
       "    <tr>\n",
       "      <th>3</th>\n",
       "      <td>2f8c_262-_85</td>\n",
       "      <td>North America</td>\n",
       "      <td>iPhone</td>\n",
       "      <td>GameAds</td>\n",
       "      <td>3755.966201</td>\n",
       "      <td>2020-04-01 11:21:54</td>\n",
       "    </tr>\n",
       "    <tr>\n",
       "      <th>4</th>\n",
       "      <td>4b1-114-4692</td>\n",
       "      <td>Europe</td>\n",
       "      <td>iPhone</td>\n",
       "      <td>GameAds</td>\n",
       "      <td>2898.802314</td>\n",
       "      <td>2020-04-01 18:29:57</td>\n",
       "    </tr>\n",
       "  </tbody>\n",
       "</table>\n",
       "</div>"
      ],
      "text/plain": [
       "        user_id         region  device  channel  session_duration  \\\n",
       "0  d35ad20dd45d            SEA  iPhone  GameAds       2589.186227   \n",
       "1  ac4a113c52c_            CIS  iPhone  GameAds       1467.539334   \n",
       "2  d0337d117cc8            CIS  iPhone  GameAds       3777.737508   \n",
       "3  2f8c_262-_85  North America  iPhone  GameAds       3755.966201   \n",
       "4  4b1-114-4692         Europe  iPhone  GameAds       2898.802314   \n",
       "\n",
       "        session_start  \n",
       "0 2020-04-01 17:51:25  \n",
       "1 2020-04-01 09:39:33  \n",
       "2 2020-04-01 01:19:56  \n",
       "3 2020-04-01 11:21:54  \n",
       "4 2020-04-01 18:29:57  "
      ]
     },
     "execution_count": 2,
     "metadata": {},
     "output_type": "execute_result"
    }
   ],
   "source": [
    "sessions = pd.read_excel('hw_lesson02_sessions.xlsx.xlsx')\n",
    "sessions.head(5)"
   ]
  },
  {
   "cell_type": "markdown",
   "id": "7b3d6974-e10b-48d3-b5e7-40bdd3727df0",
   "metadata": {},
   "source": [
    "Исследуем данные с помощью команды info"
   ]
  },
  {
   "cell_type": "code",
   "execution_count": 3,
   "id": "55956f55-792a-416c-a192-2955128f6cd3",
   "metadata": {
    "tags": []
   },
   "outputs": [
    {
     "name": "stdout",
     "output_type": "stream",
     "text": [
      "<class 'pandas.core.frame.DataFrame'>\n",
      "RangeIndex: 167890 entries, 0 to 167889\n",
      "Data columns (total 6 columns):\n",
      " #   Column            Non-Null Count   Dtype         \n",
      "---  ------            --------------   -----         \n",
      " 0   user_id           167890 non-null  object        \n",
      " 1   region            167890 non-null  object        \n",
      " 2   device            167890 non-null  object        \n",
      " 3   channel           167890 non-null  object        \n",
      " 4   session_duration  167890 non-null  float64       \n",
      " 5   session_start     167890 non-null  datetime64[ns]\n",
      "dtypes: datetime64[ns](1), float64(1), object(4)\n",
      "memory usage: 7.7+ MB\n",
      "<class 'pandas.core.frame.DataFrame'>\n",
      "RangeIndex: 59857 entries, 0 to 59856\n",
      "Data columns (total 4 columns):\n",
      " #   Column        Non-Null Count  Dtype \n",
      "---  ------        --------------  ----- \n",
      " 0   user_id       59857 non-null  object\n",
      " 1   event_name    59857 non-null  object\n",
      " 2   event_dt      59857 non-null  object\n",
      " 3   duration_sec  59857 non-null  int64 \n",
      "dtypes: int64(1), object(3)\n",
      "memory usage: 1.8+ MB\n"
     ]
    },
    {
     "data": {
      "text/plain": [
       "(None, None)"
      ]
     },
     "execution_count": 3,
     "metadata": {},
     "output_type": "execute_result"
    }
   ],
   "source": [
    "sessions.info(), tutorial.info()"
   ]
  },
  {
   "cell_type": "markdown",
   "id": "39ee9082-8d3a-45b9-acb7-b9f108f11f9e",
   "metadata": {},
   "source": [
    "Изучим категориальные переменные."
   ]
  },
  {
   "cell_type": "code",
   "execution_count": 4,
   "id": "82664074-380b-4904-9ace-c8969a379658",
   "metadata": {},
   "outputs": [
    {
     "data": {
      "text/plain": [
       "CN               33116\n",
       "North America    28260\n",
       "CIS              26187\n",
       "Europe           23413\n",
       "South America    19962\n",
       "Africa           15049\n",
       "SEA              12356\n",
       "Australia         9547\n",
       "Name: region, dtype: int64"
      ]
     },
     "execution_count": 4,
     "metadata": {},
     "output_type": "execute_result"
    }
   ],
   "source": [
    "sessions['region'].value_counts()"
   ]
  },
  {
   "cell_type": "code",
   "execution_count": 5,
   "id": "32bea94c-d96e-40d5-a72d-90a0a0f48da5",
   "metadata": {},
   "outputs": [
    {
     "data": {
      "text/plain": [
       "Andoroid    116186\n",
       "iPhone       51704\n",
       "Name: device, dtype: int64"
      ]
     },
     "execution_count": 5,
     "metadata": {},
     "output_type": "execute_result"
    }
   ],
   "source": [
    "sessions['device'].value_counts()"
   ]
  },
  {
   "cell_type": "code",
   "execution_count": 6,
   "id": "f829c695-e64e-4051-99da-98bffb93e07e",
   "metadata": {},
   "outputs": [
    {
     "data": {
      "text/plain": [
       "BrainPlus    77660\n",
       "JetAds       38526\n",
       "GameAds      34970\n",
       "SenseAds     16734\n",
       "Name: channel, dtype: int64"
      ]
     },
     "execution_count": 6,
     "metadata": {},
     "output_type": "execute_result"
    }
   ],
   "source": [
    "sessions['channel'].value_counts()"
   ]
  },
  {
   "cell_type": "code",
   "execution_count": 7,
   "id": "7633688e-e567-421a-b0c4-174bf8a0e2d8",
   "metadata": {},
   "outputs": [
    {
     "data": {
      "text/plain": [
       "(0.0002282910481539417, 21197.16666061496)"
      ]
     },
     "execution_count": 7,
     "metadata": {},
     "output_type": "execute_result"
    }
   ],
   "source": [
    "sessions['session_duration'].min(), sessions['session_duration'].max()"
   ]
  },
  {
   "cell_type": "code",
   "execution_count": 8,
   "id": "951e19fe-d9fa-4c89-a79f-3bed0b328239",
   "metadata": {},
   "outputs": [
    {
     "data": {
      "text/plain": [
       "(Timestamp('2020-04-01 00:00:23'), Timestamp('2020-06-30 23:59:45'))"
      ]
     },
     "execution_count": 8,
     "metadata": {},
     "output_type": "execute_result"
    }
   ],
   "source": [
    "sessions['session_start'].min(), sessions['session_start'].max()"
   ]
  },
  {
   "cell_type": "code",
   "execution_count": 9,
   "id": "dd55e925-1537-4df5-8219-b961f6f9257b",
   "metadata": {},
   "outputs": [
    {
     "data": {
      "text/plain": [
       "('2020-04-01 00:04:01', '2020-06-30 23:54:40')"
      ]
     },
     "execution_count": 9,
     "metadata": {},
     "output_type": "execute_result"
    }
   ],
   "source": [
    "tutorial['event_dt'].min(), tutorial['event_dt'].max()"
   ]
  },
  {
   "cell_type": "markdown",
   "id": "08cbe621-486b-4c14-b4f3-6e7c92c6fef3",
   "metadata": {},
   "source": [
    "В обоих датафреймах данные покрывают временной интервал с 1 апреля по 30 июня."
   ]
  },
  {
   "cell_type": "markdown",
   "id": "5e47bdd9-c483-458d-a14f-a4ff3a5066cc",
   "metadata": {},
   "source": [
    "# Задание 2. Описательная статистика"
   ]
  },
  {
   "cell_type": "markdown",
   "id": "c9255c81-e7a7-4239-b5ce-dc28c943bbbc",
   "metadata": {},
   "source": [
    "Исследуем колонки duration_sec и session_duration. Расчитаем для них среднее, среднеквадратическое отклонение и медиану."
   ]
  },
  {
   "cell_type": "code",
   "execution_count": 10,
   "id": "77262cc4-0db3-4ca6-9007-a4a915288caa",
   "metadata": {},
   "outputs": [
    {
     "data": {
      "text/plain": [
       "(44.942355948343554, 27.197112054898657, 39.96666666666667)"
      ]
     },
     "execution_count": 10,
     "metadata": {},
     "output_type": "execute_result"
    }
   ],
   "source": [
    "tutorial['duration_sec'].mean() / 60, tutorial['duration_sec'].std() / 60, tutorial['duration_sec'].median() / 60"
   ]
  },
  {
   "cell_type": "code",
   "execution_count": 11,
   "id": "ae26e498-4172-4427-b6a4-4d1a54e97306",
   "metadata": {},
   "outputs": [
    {
     "data": {
      "text/plain": [
       "(30.132045553160186, 30.130765971597008, 20.83862560779046)"
      ]
     },
     "execution_count": 11,
     "metadata": {},
     "output_type": "execute_result"
    }
   ],
   "source": [
    "sessions['session_duration'].mean() / 60, sessions['session_duration'].std() / 60, sessions['session_duration'].median() / 60"
   ]
  },
  {
   "cell_type": "markdown",
   "id": "f2d8fb27-edab-41e8-9ce9-c5ecbf9b02c2",
   "metadata": {},
   "source": [
    "Построим гистограмму для колоноки duration_sec. "
   ]
  },
  {
   "cell_type": "code",
   "execution_count": 12,
   "id": "e13467fd-3ba4-4125-9979-c1254f820b0c",
   "metadata": {},
   "outputs": [
    {
     "data": {
      "image/png": "[encoded data removed]",
      "text/plain": [
       "<Figure size 432x288 with 1 Axes>"
      ]
     },
     "metadata": {
      "needs_background": "light"
     },
     "output_type": "display_data"
    }
   ],
   "source": [
    "from matplotlib import pyplot as plt \n",
    "tutorial['duration_sec'].hist(bins = 1000)\n",
    "plt.xlabel('продолжительность'), plt.ylabel('Частота появления'), plt.title('Распределение продолжительности прохождения туториал')\n",
    "plt.show()"
   ]
  },
  {
   "cell_type": "markdown",
   "id": "3a4c7bc8-44ba-48c0-a8ab-e5f958163fe7",
   "metadata": {},
   "source": [
    "Продолжительность прохождения туториала имеет вид гамма распредения. Теперь построим гистограмму для колоноки session_duration."
   ]
  },
  {
   "cell_type": "code",
   "execution_count": 13,
   "id": "4ae12c6c-7d80-4c0f-a883-2bd4adba6fe1",
   "metadata": {},
   "outputs": [
    {
     "data": {
      "image/png": "[encoded data removed]",
      "text/plain": [
       "<Figure size 432x288 with 1 Axes>"
      ]
     },
     "metadata": {
      "needs_background": "light"
     },
     "output_type": "display_data"
    }
   ],
   "source": [
    "sessions['session_duration'].hist(bins = 1000)\n",
    "plt.xlabel('продолжительность'), plt.ylabel('Частота появления'), plt.title('Распределение продолжительности сессии')\n",
    "plt.show()"
   ]
  },
  {
   "cell_type": "markdown",
   "id": "6dc2be3e-5703-462b-bd5b-a8c3bd112f05",
   "metadata": {},
   "source": [
    "Продолжительность сессий имеет вид экспоненциального распределения."
   ]
  },
  {
   "cell_type": "markdown",
   "id": "a23b5947-8b4b-450a-acaf-86a1d3cbec86",
   "metadata": {
    "tags": []
   },
   "source": [
    "# Задание 3. Исследование выбросов"
   ]
  },
  {
   "cell_type": "markdown",
   "id": "448e4e76-e12d-42d8-a543-f1a11fd56919",
   "metadata": {},
   "source": [
    "Построим диаграммы размаха для обеих колонок."
   ]
  },
  {
   "cell_type": "code",
   "execution_count": 14,
   "id": "75bbcc67-eb59-48d2-990b-120fafa6df35",
   "metadata": {},
   "outputs": [
    {
     "data": {
      "image/png": "[encoded data removed]",
      "text/plain": [
       "<Figure size 432x288 with 1 Axes>"
      ]
     },
     "metadata": {
      "needs_background": "light"
     },
     "output_type": "display_data"
    }
   ],
   "source": [
    "tutorial.boxplot('duration_sec', vert = False)\n",
    "plt.xlabel('продолжительность'), plt.title('Диаграмма размаха продолжительссти прохождения туториала')\n",
    "plt.show()"
   ]
  },
  {
   "cell_type": "code",
   "execution_count": 15,
   "id": "5c4c97f4-923b-4f67-8dad-454bde47deaa",
   "metadata": {},
   "outputs": [
    {
     "data": {
      "image/png": "[encoded data removed]",
      "text/plain": [
       "<Figure size 432x288 with 1 Axes>"
      ]
     },
     "metadata": {
      "needs_background": "light"
     },
     "output_type": "display_data"
    }
   ],
   "source": [
    "sessions.boxplot('session_duration', vert = False)\n",
    "plt.xlabel('продолжительность'), plt.title('Диаграмма размаха продолжительссти сессии')\n",
    "plt.show()"
   ]
  },
  {
   "cell_type": "markdown",
   "id": "39f184fd-d9ce-4f91-9cef-e299a592fdbe",
   "metadata": {},
   "source": [
    "Для каждой колонки рассчитаем 99% перцентиль."
   ]
  },
  {
   "cell_type": "code",
   "execution_count": 16,
   "id": "8ace67b4-dcbe-4973-b086-a5c7d968ceb5",
   "metadata": {},
   "outputs": [
    {
     "data": {
      "text/plain": [
       "(7605.440000000002, 8323.137208860211)"
      ]
     },
     "execution_count": 16,
     "metadata": {},
     "output_type": "execute_result"
    }
   ],
   "source": [
    "tutorial['duration_sec'].quantile(0.99), sessions['session_duration'].quantile(0.99)"
   ]
  },
  {
   "cell_type": "markdown",
   "id": "0780e2eb-56af-49ca-ab87-d0fc5d7510be",
   "metadata": {},
   "source": [
    "Мы видим, что большая часть выбросов оказалась выше 99% перцентиля."
   ]
  },
  {
   "cell_type": "markdown",
   "id": "3eb21971-ab43-4b3b-b21c-f76d7e53d4ca",
   "metadata": {},
   "source": [
    "# Задание 4. Сохранение данных в файл"
   ]
  },
  {
   "cell_type": "markdown",
   "id": "8465d057-8230-4278-9e8d-2e9a1823b753",
   "metadata": {},
   "source": [
    "С помощью query отфильтруем из таблиц визитов и учебных игр выбросы по столбцам duration_sec и session_duration. Запишем очищенные данные в csv файлы."
   ]
  },
  {
   "cell_type": "code",
   "execution_count": 17,
   "id": "bf0e1319-4a15-4157-902f-560c2274fbfc",
   "metadata": {},
   "outputs": [
    {
     "data": {
      "text/html": [
       "<div>\n",
       "<style scoped>\n",
       "    .dataframe tbody tr th:only-of-type {\n",
       "        vertical-align: middle;\n",
       "    }\n",
       "\n",
       "    .dataframe tbody tr th {\n",
       "        vertical-align: top;\n",
       "    }\n",
       "\n",
       "    .dataframe thead th {\n",
       "        text-align: right;\n",
       "    }\n",
       "</style>\n",
       "<table border=\"1\" class=\"dataframe\">\n",
       "  <thead>\n",
       "    <tr style=\"text-align: right;\">\n",
       "      <th></th>\n",
       "      <th>user_id</th>\n",
       "      <th>event_name</th>\n",
       "      <th>event_dt</th>\n",
       "      <th>duration_sec</th>\n",
       "    </tr>\n",
       "  </thead>\n",
       "  <tbody>\n",
       "    <tr>\n",
       "      <th>0</th>\n",
       "      <td>--0-b0cbb8-a</td>\n",
       "      <td>tutorial_completed</td>\n",
       "      <td>2020-06-08 13:46:07</td>\n",
       "      <td>951</td>\n",
       "    </tr>\n",
       "    <tr>\n",
       "      <th>1</th>\n",
       "      <td>--014ca35_b7</td>\n",
       "      <td>tutorial_completed</td>\n",
       "      <td>2020-05-09 04:20:13</td>\n",
       "      <td>1143</td>\n",
       "    </tr>\n",
       "    <tr>\n",
       "      <th>2</th>\n",
       "      <td>--0424774bcb</td>\n",
       "      <td>tutorial_completed</td>\n",
       "      <td>2020-05-30 07:23:05</td>\n",
       "      <td>3758</td>\n",
       "    </tr>\n",
       "    <tr>\n",
       "      <th>3</th>\n",
       "      <td>--043682a1ad</td>\n",
       "      <td>tutorial_completed</td>\n",
       "      <td>2020-05-15 03:14:40</td>\n",
       "      <td>1326</td>\n",
       "    </tr>\n",
       "    <tr>\n",
       "      <th>4</th>\n",
       "      <td>--05-26b0-6b</td>\n",
       "      <td>tutorial_completed</td>\n",
       "      <td>2020-05-20 13:07:08</td>\n",
       "      <td>2828</td>\n",
       "    </tr>\n",
       "    <tr>\n",
       "      <th>...</th>\n",
       "      <td>...</td>\n",
       "      <td>...</td>\n",
       "      <td>...</td>\n",
       "      <td>...</td>\n",
       "    </tr>\n",
       "    <tr>\n",
       "      <th>59852</th>\n",
       "      <td>fff68c81cb2f</td>\n",
       "      <td>tutorial_completed</td>\n",
       "      <td>2020-06-04 22:59:42</td>\n",
       "      <td>2578</td>\n",
       "    </tr>\n",
       "    <tr>\n",
       "      <th>59853</th>\n",
       "      <td>fff7d81ca3_5</td>\n",
       "      <td>tutorial_completed</td>\n",
       "      <td>2020-05-31 18:55:50</td>\n",
       "      <td>2078</td>\n",
       "    </tr>\n",
       "    <tr>\n",
       "      <th>59854</th>\n",
       "      <td>fff88bbb3_c8</td>\n",
       "      <td>tutorial_completed</td>\n",
       "      <td>2020-05-28 13:14:38</td>\n",
       "      <td>2544</td>\n",
       "    </tr>\n",
       "    <tr>\n",
       "      <th>59855</th>\n",
       "      <td>fff97c4d3c74</td>\n",
       "      <td>tutorial_completed</td>\n",
       "      <td>2020-06-16 09:35:12</td>\n",
       "      <td>1783</td>\n",
       "    </tr>\n",
       "    <tr>\n",
       "      <th>59856</th>\n",
       "      <td>fffa9419ccf6</td>\n",
       "      <td>tutorial_completed</td>\n",
       "      <td>2020-06-06 18:41:33</td>\n",
       "      <td>1186</td>\n",
       "    </tr>\n",
       "  </tbody>\n",
       "</table>\n",
       "<p>59257 rows × 4 columns</p>\n",
       "</div>"
      ],
      "text/plain": [
       "            user_id          event_name             event_dt  duration_sec\n",
       "0      --0-b0cbb8-a  tutorial_completed  2020-06-08 13:46:07           951\n",
       "1      --014ca35_b7  tutorial_completed  2020-05-09 04:20:13          1143\n",
       "2      --0424774bcb  tutorial_completed  2020-05-30 07:23:05          3758\n",
       "3      --043682a1ad  tutorial_completed  2020-05-15 03:14:40          1326\n",
       "4      --05-26b0-6b  tutorial_completed  2020-05-20 13:07:08          2828\n",
       "...             ...                 ...                  ...           ...\n",
       "59852  fff68c81cb2f  tutorial_completed  2020-06-04 22:59:42          2578\n",
       "59853  fff7d81ca3_5  tutorial_completed  2020-05-31 18:55:50          2078\n",
       "59854  fff88bbb3_c8  tutorial_completed  2020-05-28 13:14:38          2544\n",
       "59855  fff97c4d3c74  tutorial_completed  2020-06-16 09:35:12          1783\n",
       "59856  fffa9419ccf6  tutorial_completed  2020-06-06 18:41:33          1186\n",
       "\n",
       "[59257 rows x 4 columns]"
      ]
     },
     "execution_count": 17,
     "metadata": {},
     "output_type": "execute_result"
    }
   ],
   "source": [
    "most_trusted_tutorial = tutorial.query('duration_sec < 7605')\n",
    "most_trusted_tutorial.to_csv('most_trusted_tutorial.csv', index = False)\n",
    "most_trusted_tutorial "
   ]
  },
  {
   "cell_type": "code",
   "execution_count": 18,
   "id": "d1eac3a6-c0f2-48db-9e92-41713b6f9cb4",
   "metadata": {},
   "outputs": [
    {
     "data": {
      "text/html": [
       "<div>\n",
       "<style scoped>\n",
       "    .dataframe tbody tr th:only-of-type {\n",
       "        vertical-align: middle;\n",
       "    }\n",
       "\n",
       "    .dataframe tbody tr th {\n",
       "        vertical-align: top;\n",
       "    }\n",
       "\n",
       "    .dataframe thead th {\n",
       "        text-align: right;\n",
       "    }\n",
       "</style>\n",
       "<table border=\"1\" class=\"dataframe\">\n",
       "  <thead>\n",
       "    <tr style=\"text-align: right;\">\n",
       "      <th></th>\n",
       "      <th>user_id</th>\n",
       "      <th>region</th>\n",
       "      <th>device</th>\n",
       "      <th>channel</th>\n",
       "      <th>session_duration</th>\n",
       "      <th>session_start</th>\n",
       "    </tr>\n",
       "  </thead>\n",
       "  <tbody>\n",
       "    <tr>\n",
       "      <th>0</th>\n",
       "      <td>d35ad20dd45d</td>\n",
       "      <td>SEA</td>\n",
       "      <td>iPhone</td>\n",
       "      <td>GameAds</td>\n",
       "      <td>2589.186227</td>\n",
       "      <td>2020-04-01 17:51:25</td>\n",
       "    </tr>\n",
       "    <tr>\n",
       "      <th>1</th>\n",
       "      <td>ac4a113c52c_</td>\n",
       "      <td>CIS</td>\n",
       "      <td>iPhone</td>\n",
       "      <td>GameAds</td>\n",
       "      <td>1467.539334</td>\n",
       "      <td>2020-04-01 09:39:33</td>\n",
       "    </tr>\n",
       "    <tr>\n",
       "      <th>2</th>\n",
       "      <td>d0337d117cc8</td>\n",
       "      <td>CIS</td>\n",
       "      <td>iPhone</td>\n",
       "      <td>GameAds</td>\n",
       "      <td>3777.737508</td>\n",
       "      <td>2020-04-01 01:19:56</td>\n",
       "    </tr>\n",
       "    <tr>\n",
       "      <th>3</th>\n",
       "      <td>2f8c_262-_85</td>\n",
       "      <td>North America</td>\n",
       "      <td>iPhone</td>\n",
       "      <td>GameAds</td>\n",
       "      <td>3755.966201</td>\n",
       "      <td>2020-04-01 11:21:54</td>\n",
       "    </tr>\n",
       "    <tr>\n",
       "      <th>4</th>\n",
       "      <td>4b1-114-4692</td>\n",
       "      <td>Europe</td>\n",
       "      <td>iPhone</td>\n",
       "      <td>GameAds</td>\n",
       "      <td>2898.802314</td>\n",
       "      <td>2020-04-01 18:29:57</td>\n",
       "    </tr>\n",
       "    <tr>\n",
       "      <th>...</th>\n",
       "      <td>...</td>\n",
       "      <td>...</td>\n",
       "      <td>...</td>\n",
       "      <td>...</td>\n",
       "      <td>...</td>\n",
       "      <td>...</td>\n",
       "    </tr>\n",
       "    <tr>\n",
       "      <th>167885</th>\n",
       "      <td>f4436b_52dc_</td>\n",
       "      <td>CIS</td>\n",
       "      <td>Andoroid</td>\n",
       "      <td>BrainPlus</td>\n",
       "      <td>2775.695988</td>\n",
       "      <td>2020-06-30 15:14:56</td>\n",
       "    </tr>\n",
       "    <tr>\n",
       "      <th>167886</th>\n",
       "      <td>ad3-bc75a9fc</td>\n",
       "      <td>Europe</td>\n",
       "      <td>Andoroid</td>\n",
       "      <td>JetAds</td>\n",
       "      <td>1885.137209</td>\n",
       "      <td>2020-06-30 14:56:09</td>\n",
       "    </tr>\n",
       "    <tr>\n",
       "      <th>167887</th>\n",
       "      <td>a08d5af97-3d</td>\n",
       "      <td>Europe</td>\n",
       "      <td>Andoroid</td>\n",
       "      <td>BrainPlus</td>\n",
       "      <td>157.472441</td>\n",
       "      <td>2020-06-30 05:22:07</td>\n",
       "    </tr>\n",
       "    <tr>\n",
       "      <th>167888</th>\n",
       "      <td>-9_13acb52-7</td>\n",
       "      <td>Africa</td>\n",
       "      <td>Andoroid</td>\n",
       "      <td>BrainPlus</td>\n",
       "      <td>151.266928</td>\n",
       "      <td>2020-06-30 17:43:42</td>\n",
       "    </tr>\n",
       "    <tr>\n",
       "      <th>167889</th>\n",
       "      <td>-175c05_40d3</td>\n",
       "      <td>North America</td>\n",
       "      <td>Andoroid</td>\n",
       "      <td>BrainPlus</td>\n",
       "      <td>5052.781567</td>\n",
       "      <td>2020-06-30 11:38:15</td>\n",
       "    </tr>\n",
       "  </tbody>\n",
       "</table>\n",
       "<p>166211 rows × 6 columns</p>\n",
       "</div>"
      ],
      "text/plain": [
       "             user_id         region    device    channel  session_duration  \\\n",
       "0       d35ad20dd45d            SEA    iPhone    GameAds       2589.186227   \n",
       "1       ac4a113c52c_            CIS    iPhone    GameAds       1467.539334   \n",
       "2       d0337d117cc8            CIS    iPhone    GameAds       3777.737508   \n",
       "3       2f8c_262-_85  North America    iPhone    GameAds       3755.966201   \n",
       "4       4b1-114-4692         Europe    iPhone    GameAds       2898.802314   \n",
       "...              ...            ...       ...        ...               ...   \n",
       "167885  f4436b_52dc_            CIS  Andoroid  BrainPlus       2775.695988   \n",
       "167886  ad3-bc75a9fc         Europe  Andoroid     JetAds       1885.137209   \n",
       "167887  a08d5af97-3d         Europe  Andoroid  BrainPlus        157.472441   \n",
       "167888  -9_13acb52-7         Africa  Andoroid  BrainPlus        151.266928   \n",
       "167889  -175c05_40d3  North America  Andoroid  BrainPlus       5052.781567   \n",
       "\n",
       "             session_start  \n",
       "0      2020-04-01 17:51:25  \n",
       "1      2020-04-01 09:39:33  \n",
       "2      2020-04-01 01:19:56  \n",
       "3      2020-04-01 11:21:54  \n",
       "4      2020-04-01 18:29:57  \n",
       "...                    ...  \n",
       "167885 2020-06-30 15:14:56  \n",
       "167886 2020-06-30 14:56:09  \n",
       "167887 2020-06-30 05:22:07  \n",
       "167888 2020-06-30 17:43:42  \n",
       "167889 2020-06-30 11:38:15  \n",
       "\n",
       "[166211 rows x 6 columns]"
      ]
     },
     "execution_count": 18,
     "metadata": {},
     "output_type": "execute_result"
    }
   ],
   "source": [
    "most_trusted_sessions = sessions.query('session_duration < 8323')\n",
    "most_trusted_sessions.to_csv('most_trusted_sessions.csv', index = False)\n",
    "most_trusted_sessions"
   ]
  },
  {
   "cell_type": "markdown",
   "id": "703ce368-5d55-45ff-993b-1941d8860729",
   "metadata": {},
   "source": [
    "# Задание 5. Фильтрация выбросов с помощью функции"
   ]
  },
  {
   "cell_type": "markdown",
   "id": "cafebee0-41c1-4d0e-8554-44b3aa40ff98",
   "metadata": {},
   "source": [
    "Напишем функцию filter_outliers, которая принимает на вход: датафрейм; наименование столбца, по которому в этом датафрейме нужно найти выбросы; значения границы выбросов для расчета перцентиля. Функция убирает из фрейма все выбросы по указанному столбцу и возвращает отфильтрованный датафрейм."
   ]
  },
  {
   "cell_type": "code",
   "execution_count": 19,
   "id": "7e526acf-fb81-49d4-b59d-8d92390cf1dc",
   "metadata": {},
   "outputs": [],
   "source": [
    "def filter_outliers(frame, column, quantile):\n",
    "    p = frame[column].quantile(quantile)\n",
    "    return frame[frame[column] < p]"
   ]
  },
  {
   "cell_type": "code",
   "execution_count": 20,
   "id": "c133c606-1175-431a-8c76-44ccb3a2cd21",
   "metadata": {},
   "outputs": [
    {
     "data": {
      "text/html": [
       "<div>\n",
       "<style scoped>\n",
       "    .dataframe tbody tr th:only-of-type {\n",
       "        vertical-align: middle;\n",
       "    }\n",
       "\n",
       "    .dataframe tbody tr th {\n",
       "        vertical-align: top;\n",
       "    }\n",
       "\n",
       "    .dataframe thead th {\n",
       "        text-align: right;\n",
       "    }\n",
       "</style>\n",
       "<table border=\"1\" class=\"dataframe\">\n",
       "  <thead>\n",
       "    <tr style=\"text-align: right;\">\n",
       "      <th></th>\n",
       "      <th>user_id</th>\n",
       "      <th>region</th>\n",
       "      <th>device</th>\n",
       "      <th>channel</th>\n",
       "      <th>session_duration</th>\n",
       "      <th>session_start</th>\n",
       "    </tr>\n",
       "  </thead>\n",
       "  <tbody>\n",
       "    <tr>\n",
       "      <th>0</th>\n",
       "      <td>d35ad20dd45d</td>\n",
       "      <td>SEA</td>\n",
       "      <td>iPhone</td>\n",
       "      <td>GameAds</td>\n",
       "      <td>2589.186227</td>\n",
       "      <td>2020-04-01 17:51:25</td>\n",
       "    </tr>\n",
       "    <tr>\n",
       "      <th>1</th>\n",
       "      <td>ac4a113c52c_</td>\n",
       "      <td>CIS</td>\n",
       "      <td>iPhone</td>\n",
       "      <td>GameAds</td>\n",
       "      <td>1467.539334</td>\n",
       "      <td>2020-04-01 09:39:33</td>\n",
       "    </tr>\n",
       "    <tr>\n",
       "      <th>2</th>\n",
       "      <td>d0337d117cc8</td>\n",
       "      <td>CIS</td>\n",
       "      <td>iPhone</td>\n",
       "      <td>GameAds</td>\n",
       "      <td>3777.737508</td>\n",
       "      <td>2020-04-01 01:19:56</td>\n",
       "    </tr>\n",
       "    <tr>\n",
       "      <th>3</th>\n",
       "      <td>2f8c_262-_85</td>\n",
       "      <td>North America</td>\n",
       "      <td>iPhone</td>\n",
       "      <td>GameAds</td>\n",
       "      <td>3755.966201</td>\n",
       "      <td>2020-04-01 11:21:54</td>\n",
       "    </tr>\n",
       "    <tr>\n",
       "      <th>4</th>\n",
       "      <td>4b1-114-4692</td>\n",
       "      <td>Europe</td>\n",
       "      <td>iPhone</td>\n",
       "      <td>GameAds</td>\n",
       "      <td>2898.802314</td>\n",
       "      <td>2020-04-01 18:29:57</td>\n",
       "    </tr>\n",
       "    <tr>\n",
       "      <th>...</th>\n",
       "      <td>...</td>\n",
       "      <td>...</td>\n",
       "      <td>...</td>\n",
       "      <td>...</td>\n",
       "      <td>...</td>\n",
       "      <td>...</td>\n",
       "    </tr>\n",
       "    <tr>\n",
       "      <th>167885</th>\n",
       "      <td>f4436b_52dc_</td>\n",
       "      <td>CIS</td>\n",
       "      <td>Andoroid</td>\n",
       "      <td>BrainPlus</td>\n",
       "      <td>2775.695988</td>\n",
       "      <td>2020-06-30 15:14:56</td>\n",
       "    </tr>\n",
       "    <tr>\n",
       "      <th>167886</th>\n",
       "      <td>ad3-bc75a9fc</td>\n",
       "      <td>Europe</td>\n",
       "      <td>Andoroid</td>\n",
       "      <td>JetAds</td>\n",
       "      <td>1885.137209</td>\n",
       "      <td>2020-06-30 14:56:09</td>\n",
       "    </tr>\n",
       "    <tr>\n",
       "      <th>167887</th>\n",
       "      <td>a08d5af97-3d</td>\n",
       "      <td>Europe</td>\n",
       "      <td>Andoroid</td>\n",
       "      <td>BrainPlus</td>\n",
       "      <td>157.472441</td>\n",
       "      <td>2020-06-30 05:22:07</td>\n",
       "    </tr>\n",
       "    <tr>\n",
       "      <th>167888</th>\n",
       "      <td>-9_13acb52-7</td>\n",
       "      <td>Africa</td>\n",
       "      <td>Andoroid</td>\n",
       "      <td>BrainPlus</td>\n",
       "      <td>151.266928</td>\n",
       "      <td>2020-06-30 17:43:42</td>\n",
       "    </tr>\n",
       "    <tr>\n",
       "      <th>167889</th>\n",
       "      <td>-175c05_40d3</td>\n",
       "      <td>North America</td>\n",
       "      <td>Andoroid</td>\n",
       "      <td>BrainPlus</td>\n",
       "      <td>5052.781567</td>\n",
       "      <td>2020-06-30 11:38:15</td>\n",
       "    </tr>\n",
       "  </tbody>\n",
       "</table>\n",
       "<p>159495 rows × 6 columns</p>\n",
       "</div>"
      ],
      "text/plain": [
       "             user_id         region    device    channel  session_duration  \\\n",
       "0       d35ad20dd45d            SEA    iPhone    GameAds       2589.186227   \n",
       "1       ac4a113c52c_            CIS    iPhone    GameAds       1467.539334   \n",
       "2       d0337d117cc8            CIS    iPhone    GameAds       3777.737508   \n",
       "3       2f8c_262-_85  North America    iPhone    GameAds       3755.966201   \n",
       "4       4b1-114-4692         Europe    iPhone    GameAds       2898.802314   \n",
       "...              ...            ...       ...        ...               ...   \n",
       "167885  f4436b_52dc_            CIS  Andoroid  BrainPlus       2775.695988   \n",
       "167886  ad3-bc75a9fc         Europe  Andoroid     JetAds       1885.137209   \n",
       "167887  a08d5af97-3d         Europe  Andoroid  BrainPlus        157.472441   \n",
       "167888  -9_13acb52-7         Africa  Andoroid  BrainPlus        151.266928   \n",
       "167889  -175c05_40d3  North America  Andoroid  BrainPlus       5052.781567   \n",
       "\n",
       "             session_start  \n",
       "0      2020-04-01 17:51:25  \n",
       "1      2020-04-01 09:39:33  \n",
       "2      2020-04-01 01:19:56  \n",
       "3      2020-04-01 11:21:54  \n",
       "4      2020-04-01 18:29:57  \n",
       "...                    ...  \n",
       "167885 2020-06-30 15:14:56  \n",
       "167886 2020-06-30 14:56:09  \n",
       "167887 2020-06-30 05:22:07  \n",
       "167888 2020-06-30 17:43:42  \n",
       "167889 2020-06-30 11:38:15  \n",
       "\n",
       "[159495 rows x 6 columns]"
      ]
     },
     "execution_count": 20,
     "metadata": {},
     "output_type": "execute_result"
    }
   ],
   "source": [
    "filter_outliers(sessions, 'session_duration', 0.95)"
   ]
  }
 ],
 "metadata": {
  "kernelspec": {
   "display_name": "Python 3 (ipykernel)",
   "language": "python",
   "name": "python3"
  },
  "language_info": {
   "codemirror_mode": {
    "name": "ipython",
    "version": 3
   },
   "file_extension": ".py",
   "mimetype": "text/x-python",
   "name": "python",
   "nbconvert_exporter": "python",
   "pygments_lexer": "ipython3",
   "version": "3.9.12"
  }
 },
 "nbformat": 4,
 "nbformat_minor": 5
}
